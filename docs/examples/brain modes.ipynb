{
 "cells": [
  {
   "cell_type": "markdown",
   "metadata": {},
   "source": [
    "# Capturing contributions in different 'brain modes'\n",
    "\n",
    "In this notebook, I will simulate the modes described here:\n",
    "- Toba, Monica N., Olivier Godefroy, R. Jarrett Rushmore, Melissa Zavaglia, Redwan Maatoug, Claus C. Hilgetag, and Antoni Valero-Cabré. 2019. **“Revisiting ‘brain Modes’ in a New Computational Era: Approaches for the Characterization of Brain-Behavioural Associations.”** Brain: A Journal of Neurology, November. https://doi.org/10.1093/brain/awz343.\n",
    "\n",
    "The idea, as described in the above paper comes from an earlier work by Godfroy and colleagues in which they _\"conceptualized the potential of four elementary typologies of brain-behaviour relationships named ‘brain modes’ (unicity, equivalence, association, summation) as building blocks able to describe the association between intact or lesionedbrain regions and cognitive processes or neurological deficits.\"_ \n",
    "\n",
    "In this work, Toba and co-workers revisted the idea and added a fifth mode called \"mutual inhibition\". It's a very nice concept for categorizing brain-behavior relationships so I thought I give MSA a try and see if I can capture these interactions."
   ]
  },
  {
   "cell_type": "code",
   "execution_count": 1,
   "metadata": {
    "jupyter": {
     "outputs_hidden": false
    },
    "pycharm": {
     "name": "#%%\n"
    }
   },
   "outputs": [],
   "source": [
    "# Uncomment the line below if you don't have them.\n",
    "# !pip install networkx matplotlib seaborn"
   ]
  },
  {
   "cell_type": "code",
   "execution_count": 2,
   "metadata": {},
   "outputs": [],
   "source": [
    "# Imports\n",
    "import matplotlib.pyplot as plt\n",
    "import seaborn as sns\n",
    "# ---------\n",
    "from msapy import msa, utils as ut, plottings as pl\n",
    "# ---------\n",
    "import matplotlib as mpl\n",
    "mpl.rcParams['font.family'] = 'sans-serif'\n",
    "mpl.rcParams['font.sans-serif'] = 'GothamSSm'  # Will skip if you don't have Gotham typeface family\n",
    "mpl.rcParams['pdf.fonttype'] = 42\n",
    "mpl.rcParams['font.size'] = 8\n",
    "#---------\n",
    "CM = 1 / 2.54\n",
    "SEED = 111\n",
    "FIGPATH = \"figures/bm/\""
   ]
  },
  {
   "cell_type": "markdown",
   "metadata": {},
   "source": [
    "Although the original paper talks about two regions, here we go with some dummy regions and work with one to three regions. Keep it simple but more spicy! The regions of interest will be mostly 'a' and 'b' but once 'c' too."
   ]
  },
  {
   "cell_type": "code",
   "execution_count": 3,
   "metadata": {
    "pycharm": {
     "name": "#%%\n"
    }
   },
   "outputs": [],
   "source": [
    "regions = ['a','b','c','d','e','f','g','h']"
   ]
  },
  {
   "attachments": {},
   "cell_type": "markdown",
   "metadata": {},
   "source": [
    "## Modes:\n",
    "Let's look at the modes first:\n",
    "\n",
    "<img src=\"../images/modes.png\"  width=\"800\">\n",
    "\n",
    "Each mode represents a type of interaction between two (or more) regions that causes some deficit in a cognitive/behavioral domain. Let's look at the parts describing these modes in the paper: (bolded parts are by me)\n",
    "\n",
    "- **Unicity:** \"In the unicity mode, the behavioral dificit is linked to the lesion of a single brain region, hence 100% performance is obtained solely when node A is intact, irrespective of whether node B is intact or damaged.\"\n",
    "\n",
    "\n",
    "- **Equivalence:** The equivalence brain mode has been documented theoretically and also clinically. Indeed, in the original paper describing brain modes, single lesions localized at two different levels along the cortico-spinal tract were characterized as **equally responsible** for motor weakness.\n",
    "\n",
    "\n",
    "- **Association:** \"In the association mode, the behavioral deficit is observed only when two or more brain regions are simultaneously damaged; therefore 100% performance occurs when node A or node B are intact, but not when both are lesioned.\"\n",
    "\n",
    "- **Summation:** \"100% performance occurs only when both nodes A and B are intact; however, when either node A or node B are lesioned there is a moderate deficit; whereas when both nodes A and B are damaged, then the deficit becomes severe.\"\n",
    "\n",
    "\n",
    "- **Mutual Inhibition:** [...]multivariate CART approaches originally used for their characterization failed to identify ‘paradoxical lesion cancellation’ effects,[...] This phenomenon described the **paradoxical improvement of performance deficits caused by a circumscribed lesion** thanks to a reversible or permanent suppression of activity in a second brain area interacting with the former.\n",
    "\n",
    "\n",
    "So let's code them:"
   ]
  },
  {
   "cell_type": "code",
   "execution_count": 4,
   "metadata": {
    "pycharm": {
     "name": "#%%\n"
    }
   },
   "outputs": [],
   "source": [
    "def unicity(complements):\n",
    "    # Region 'a' is the only cause of the function.\n",
    "    \n",
    "    if set('a').issubset(complements):\n",
    "        return 0  # simulates a total behavioral deficit.\n",
    "    else:\n",
    "        return 100 # otherwise, we're cool.\n",
    "\n",
    "\n",
    "def equivalence(complements):\n",
    "    # Function relies on one **or** the other region so lesioning either will produce a deficit.\n",
    "    \n",
    "    if set('a').issubset(complements) or set('b').issubset(complements):\n",
    "        return 0\n",
    "    else:\n",
    "        return 100\n",
    "\n",
    "\n",
    "def association(complements):\n",
    "    # If **both** regions are damaged at the same time, there will be a problem.\n",
    "    \n",
    "    if set(['a','b']).issubset(complements):\n",
    "        return 0\n",
    "    else:\n",
    "        return 100\n",
    "\n",
    "\n",
    "def summation(complements):\n",
    "    # Lesioning both will have a **bigger impact** compared to lesioning one, and it get's worst with three.\n",
    "    \n",
    "    if set(['a','b','c']).issubset(complements):\n",
    "        return 30 # lesions add up and make larger impact on the performance.\n",
    "    elif set(['a','b']).issubset(complements):\n",
    "        return 60\n",
    "    elif set('a').issubset(complements):\n",
    "        return 90\n",
    "    else:\n",
    "        return 100\n",
    "\n",
    "\n",
    "def mutual_inhibition(complements):\n",
    "    # Lesioning one region produces deficit while lesioning another repairs it.\n",
    "    \n",
    "    if set('a').issubset(complements) and set('b').issubset(complements):\n",
    "        return 100 # Paradoxically, two lesions = full performance\n",
    "    \n",
    "    elif set('a').issubset(complements):\n",
    "        return 0 # lesioning either one is a bad idea\n",
    "    elif set('b').issubset(complements):\n",
    "        return 0\n",
    "    \n",
    "    else:\n",
    "        return 100\n"
   ]
  },
  {
   "cell_type": "markdown",
   "metadata": {},
   "source": [
    "Now let's loop through them, simulate, and calculate Shapley values of each element in these brain modes."
   ]
  },
  {
   "cell_type": "code",
   "execution_count": 5,
   "metadata": {
    "pycharm": {
     "name": "#%%\n"
    }
   },
   "outputs": [],
   "source": [
    "modes = [unicity, equivalence, association, summation, mutual_inhibition]\n",
    "\n",
    "shapley_tables = dict.fromkeys([keys.__name__ for keys in modes])\n",
    "\n",
    "for mode in modes:\n",
    "    shapley_tables[mode.__name__], _, _ = msa.interface(elements=regions,\n",
    "                                                        n_permutations=1_000,\n",
    "                                                        objective_function=mode,\n",
    "                                                        n_parallel_games=1,\n",
    "                                                        random_seed = SEED)"
   ]
  },
  {
   "cell_type": "markdown",
   "metadata": {},
   "source": [
    "And plotting stuff:"
   ]
  },
  {
   "cell_type": "code",
   "execution_count": 6,
   "metadata": {
    "pycharm": {
     "name": "#%%\n"
    }
   },
   "outputs": [
    {
     "data": {
      "image/png": "[encoded data removed]",
      "text/plain": [
       "<Figure size 708.661x295.276 with 5 Axes>"
      ]
     },
     "metadata": {
      "needs_background": "light"
     },
     "output_type": "display_data"
    }
   ],
   "source": [
    "\n",
    "fig, axes = plt.subplots(1, 5,figsize=(12*CM,5*CM),dpi=150)\n",
    "fig.suptitle(\"Regions' contributions w.r.t different Brain Modes\")\n",
    "\n",
    "for i, mode in enumerate(shapley_tables.keys()):\n",
    "    \n",
    "    axes[i].set_title(f'{mode}',fontsize=8)\n",
    "    dataset = ut.sorter(shapley_tables[mode])\n",
    "    colors = pl.color_code(shapley_table=dataset)\n",
    "\n",
    "    pl.plot_shapley_ranks(shapley_table=dataset,\n",
    "                                  colors=colors,\n",
    "                                  ax=axes[i])\n",
    "    \n",
    "fig.tight_layout()\n",
    "plt.savefig(f\"{FIGPATH}brain_modes.pdf\",dpi=300,bbox_inches='tight')"
   ]
  },
  {
   "cell_type": "markdown",
   "metadata": {
    "pycharm": {
     "name": "#%% md\n"
    }
   },
   "source": [
    "The interesting points for me are the negative Shapley value of region 'a' and 'b' in the mutual inhibition mode, and the indistinguishable contributions in equivalence and association modes."
   ]
  }
 ],
 "metadata": {
  "kernelspec": {
   "display_name": "Python 3",
   "language": "python",
   "name": "python3"
  },
  "language_info": {
   "codemirror_mode": {
    "name": "ipython",
    "version": 3
   },
   "file_extension": ".py",
   "mimetype": "text/x-python",
   "name": "python",
   "nbconvert_exporter": "python",
   "pygments_lexer": "ipython3",
   "version": "3.10.6 (main, Nov 14 2022, 16:10:14) [GCC 11.3.0]"
  },
  "vscode": {
   "interpreter": {
    "hash": "916dbcbb3f70747c44a77c7bcd40155683ae19c65e1c03b4aa3499c5328201f1"
   }
  }
 },
 "nbformat": 4,
 "nbformat_minor": 4
}
