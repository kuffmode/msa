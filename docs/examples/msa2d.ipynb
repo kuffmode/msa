{
 "cells": [
  {
   "cell_type": "code",
   "execution_count": 1,
   "metadata": {},
   "outputs": [],
   "source": [
    "%load_ext autoreload\n",
    "%autoreload 2"
   ]
  },
  {
   "cell_type": "code",
   "execution_count": 51,
   "metadata": {},
   "outputs": [],
   "source": [
    "import math\n",
    "from msapy import msa, utils as ut\n",
    "from itertools import combinations"
   ]
  },
  {
   "cell_type": "code",
   "execution_count": 39,
   "metadata": {},
   "outputs": [],
   "source": [
    "def simple_with_interaction(complements):\n",
    "    if (\"A\" not in complements) and (\"B\" not in complements):\n",
    "        return sum(contrib_dict.values()) - sum(contrib_dict[k] for k in complements) + 87\n",
    "\n",
    "    return sum(contrib_dict.values()) - sum(contrib_dict[k] for k in complements)"
   ]
  },
  {
   "cell_type": "code",
   "execution_count": 40,
   "metadata": {},
   "outputs": [
    {
     "name": "stderr",
     "output_type": "stream",
     "text": [
      "100%|██████████| 16/16 [00:00<00:00, 130055.94it/s]\n",
      "100%|██████████| 16/16 [00:00<00:00, 143395.01it/s]\n",
      "100%|██████████| 24/24 [00:00<00:00, 236298.82it/s]\n"
     ]
    },
    {
     "name": "stdout",
     "output_type": "stream",
     "text": [
      "106.0 10.0 9.0\n"
     ]
    }
   ],
   "source": [
    "contrib_dict = {\"A\": 10, \"B\": 9, \"C\": 57, \"D\": -8, \"E\": 42}\n",
    "\n",
    "gamma_AB, gamma_A, gamma_B = msa.interaction_2d(\n",
    "    elements=list(contrib_dict.keys()),\n",
    "    pair=(\"A\", \"B\"),\n",
    "    n_permutations=10000,\n",
    "    objective_function=simple_with_interaction,\n",
    "    n_parallel_games=1)\n",
    "\n",
    "print(gamma_AB, gamma_A, gamma_B )"
   ]
  },
  {
   "cell_type": "code",
   "execution_count": 50,
   "metadata": {},
   "outputs": [],
   "source": [
    "def split(a, n):\n",
    "    \"\"\"split list a into n chunks\n",
    "\n",
    "    Args:\n",
    "        a (list): list to be split\n",
    "        n (int): number of chunks to split\n",
    "\n",
    "    Returns:\n",
    "        generator: n chunks of a\n",
    "    \"\"\"\n",
    "    k, m = divmod(len(a), n)\n",
    "    return (a[i*k+min(i, m):(i+1)*k+min(i+1, m)] for i in range(n))"
   ]
  },
  {
   "cell_type": "code",
   "execution_count": 54,
   "metadata": {},
   "outputs": [
    {
     "name": "stderr",
     "output_type": "stream",
     "text": [
      "100%|██████████| 16/16 [00:00<00:00, 10367.51it/s]          | 0/4 [00:00<?, ?it/s]\n",
      "100%|██████████| 16/16 [00:00<00:00, 147816.88it/s]\n",
      "100%|██████████| 24/24 [00:00<00:00, 202541.84it/s]\n",
      "100%|██████████| 16/16 [00:00<00:00, 155705.02it/s]█▌       | 1/4 [00:01<00:03,  1.20s/it]\n",
      "100%|██████████| 16/16 [00:00<00:00, 126859.86it/s]\n",
      "100%|██████████| 24/24 [00:00<00:00, 198546.93it/s]\n",
      "100%|██████████| 16/16 [00:00<00:00, 161708.11it/s]████     | 2/4 [00:02<00:02,  1.20s/it]\n",
      "100%|██████████| 16/16 [00:00<00:00, 172074.01it/s]\n",
      "100%|██████████| 24/24 [00:00<00:00, 215092.51it/s]\n",
      "100%|██████████| 16/16 [00:00<00:00, 124275.67it/s]██████▌  | 3/4 [00:03<00:01,  1.21s/it]\n",
      "100%|██████████| 16/16 [00:00<00:00, 161708.11it/s]\n",
      "100%|██████████| 24/24 [00:00<00:00, 94165.85it/s]\n",
      "Running interface 2d for all pair of nodes:: 100%|██████████| 4/4 [00:04<00:00,  1.22s/it]\n",
      "100%|██████████| 16/16 [00:00<00:00, 152520.15it/s]         | 0/3 [00:00<?, ?it/s]\n",
      "100%|██████████| 16/16 [00:00<00:00, 160932.53it/s]\n",
      "100%|██████████| 24/24 [00:00<00:00, 134039.01it/s]\n",
      "100%|██████████| 16/16 [00:00<00:00, 169466.83it/s]██▎      | 1/3 [00:01<00:02,  1.17s/it]\n",
      "100%|██████████| 16/16 [00:00<00:00, 95460.69it/s]\n",
      "100%|██████████| 24/24 [00:00<00:00, 234646.38it/s]\n",
      "100%|██████████| 16/16 [00:00<00:00, 125437.13it/s]█████▋   | 2/3 [00:02<00:01,  1.16s/it]\n",
      "100%|██████████| 16/16 [00:00<00:00, 131586.01it/s]\n",
      "100%|██████████| 24/24 [00:00<00:00, 215092.51it/s]\n",
      "Running interface 2d for all pair of nodes:: 100%|██████████| 3/3 [00:03<00:00,  1.19s/it]\n",
      "100%|██████████| 16/16 [00:00<00:00, 142179.80it/s]         | 0/3 [00:00<?, ?it/s]\n",
      "100%|██████████| 16/16 [00:00<00:00, 83365.05it/s]\n",
      "100%|██████████| 24/24 [00:00<00:00, 213269.69it/s]\n",
      "100%|██████████| 16/16 [00:00<00:00, 67992.77it/s]███▎      | 1/3 [00:01<00:02,  1.26s/it]\n",
      "100%|██████████| 16/16 [00:00<00:00, 123135.53it/s]\n",
      "100%|██████████| 24/24 [00:00<00:00, 176602.27it/s]\n",
      "100%|██████████| 16/16 [00:00<00:00, 99568.05it/s]██████▋   | 2/3 [00:02<00:01,  1.25s/it]\n",
      "100%|██████████| 16/16 [00:00<00:00, 110376.42it/s]\n",
      "100%|██████████| 24/24 [00:00<00:00, 195842.99it/s]\n",
      "Running interface 2d for all pair of nodes:: 100%|██████████| 3/3 [00:03<00:00,  1.25s/it]\n"
     ]
    }
   ],
   "source": [
    "elements = list(contrib_dict.keys())\n",
    "all_pairs = list(combinations(elements, 2))\n",
    "\n",
    "n_clusters = 3\n",
    "\n",
    "interaction_dict = {}\n",
    "for cluster, pairs in enumerate(split(all_pairs, n_clusters)):\n",
    "    interaction_dict[cluster] = msa.network_interaction_2d(\n",
    "        elements=list(contrib_dict.keys()),\n",
    "        pairs=pairs,\n",
    "        n_permutations=5000,\n",
    "        objective_function=simple_with_interaction,\n",
    "        n_parallel_games=1)\n"
   ]
  },
  {
   "cell_type": "code",
   "execution_count": 55,
   "metadata": {},
   "outputs": [
    {
     "data": {
      "text/plain": [
       "{0: array([[ 0., 87.,  0.,  0.,  0.],\n",
       "        [87.,  0.,  0.,  0.,  0.],\n",
       "        [ 0.,  0.,  0.,  0.,  0.],\n",
       "        [ 0.,  0.,  0.,  0.,  0.],\n",
       "        [ 0.,  0.,  0.,  0.,  0.]]),\n",
       " 1: array([[0., 0., 0., 0., 0.],\n",
       "        [0., 0., 0., 0., 0.],\n",
       "        [0., 0., 0., 0., 0.],\n",
       "        [0., 0., 0., 0., 0.],\n",
       "        [0., 0., 0., 0., 0.]]),\n",
       " 2: array([[0., 0., 0., 0., 0.],\n",
       "        [0., 0., 0., 0., 0.],\n",
       "        [0., 0., 0., 0., 0.],\n",
       "        [0., 0., 0., 0., 0.],\n",
       "        [0., 0., 0., 0., 0.]])}"
      ]
     },
     "execution_count": 55,
     "metadata": {},
     "output_type": "execute_result"
    }
   ],
   "source": [
    "interaction_dict"
   ]
  }
 ],
 "metadata": {
  "interpreter": {
   "hash": "6ebdd63b90cae52d530d710b364d3a738e11c24089cbf33af29a18374c02ca91"
  },
  "kernelspec": {
   "display_name": "Python 3.9.7 ('msa')",
   "language": "python",
   "name": "python3"
  },
  "language_info": {
   "codemirror_mode": {
    "name": "ipython",
    "version": 3
   },
   "file_extension": ".py",
   "mimetype": "text/x-python",
   "name": "python",
   "nbconvert_exporter": "python",
   "pygments_lexer": "ipython3",
   "version": "3.9.7"
  },
  "orig_nbformat": 4
 },
 "nbformat": 4,
 "nbformat_minor": 2
}
